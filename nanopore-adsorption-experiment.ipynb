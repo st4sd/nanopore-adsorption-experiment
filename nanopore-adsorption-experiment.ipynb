{
 "cells": [
  {
   "cell_type": "markdown",
   "metadata": {},
   "source": [
    "# Nanoporous Materials Screening Experiments\n",
    "\n",
    "This notebook demonstrates the use of ST4SD REST-API to launch adsorption experiments directly from the Jupyter Notebook."
   ]
  },
  {
   "cell_type": "code",
   "execution_count": null,
   "metadata": {
    "tags": []
   },
   "outputs": [],
   "source": [
    "from __future__ import print_function\n",
    "import experiment.service.db\n",
    "import logging\n",
    "import os\n",
    "import pandas as pd\n",
    "import json\n",
    "\n",
    "logging.basicConfig(format='%(levelname)-9s %(name)-15s: %(funcName)-20s %(asctime)-15s: %(message)s')\n",
    "root=logging.getLogger()\n",
    "root.setLevel(logging.WARNING)"
   ]
  },
  {
   "cell_type": "markdown",
   "metadata": {
    "tags": []
   },
   "source": [
    "## Connect to target OpenShift cluster"
   ]
  },
  {
   "cell_type": "code",
   "execution_count": null,
   "metadata": {
    "tags": []
   },
   "outputs": [],
   "source": [
    " # Fill this with the https:// end-point of your ST4SD registry\n",
    " # OR set the URL via the ST4SD_URL environment variable before running this notebook\n",
    "st4sd_url = os.getenv('ST4SD_URL', None)\n",
    "\n",
    "if st4sd_url is None:\n",
    "  raise ValueError(\"You need to fill in ST4SD_URL above.\")"
   ]
  },
  {
   "cell_type": "markdown",
   "metadata": {
    "tags": []
   },
   "source": [
    "### Authenticate to workflow scheduler\n",
    "\n",
    "1. Visit URL printed below\n",
    "1. After logining in you will be presented with an authentication token that you will provide to the experiment.service.db.ExperimentRestAPI wrapper in a python cell below."
   ]
  },
  {
   "cell_type": "code",
   "execution_count": null,
   "metadata": {
    "tags": []
   },
   "outputs": [],
   "source": [
    "auth_url = '/'.join((st4sd_url, 'authorisation/token'))\n",
    "if os.getenv('ST4SD_BEARER_KEY') is None:\n",
    "    print(\"Authorisation Token URL:\", auth_url)\n",
    "else:\n",
    "    print(\"Will use Bearer Key from `ST4SD_BEARER_KEY` environment variable instead of an AuthorizationToken\")"
   ]
  },
  {
   "cell_type": "markdown",
   "metadata": {},
   "source": [
    "### Connect to workflow scheduler API"
   ]
  },
  {
   "cell_type": "code",
   "execution_count": null,
   "metadata": {},
   "outputs": [],
   "source": [
    "# Unless you have already populated the `ST4SD_BEARER_KEY` environment variable with a suitable Bearer KEY,\n",
    "# set `token` to what you copied above\n",
    "token = None\n",
    "\n",
    "try:\n",
    "    api = experiment.service.db.ExperimentRestAPI(st4sd_url,\n",
    "                                                  max_retries=2,\n",
    "                                                  secs_between_retries=1,\n",
    "                                                  cc_bearer_key=os.getenv('ST4SD_BEARER_KEY'),\n",
    "                                                  cc_auth_token=token\n",
    "    )\n",
    "except experiment.service.errors.UnauthorisedRequest as e:\n",
    "    print(f\"Visit {auth_url} to retrieve your authentication token. Then use it to set the value of \"\n",
    "          \"\\\"auth_token\\\" in the above cell. Execute that cell and then execute this one.\")\n",
    "else:\n",
    "    print(f\"You've successfully authenticated to {st4sd_url}\")"
   ]
  },
  {
   "cell_type": "markdown",
   "metadata": {},
   "source": [
    "## Define a subset of materials to be screened"
   ]
  },
  {
   "cell_type": "code",
   "execution_count": null,
   "metadata": {},
   "outputs": [],
   "source": [
    "bundled = [\"CoRE2019/GUJVOX_clean\", \"CoRE2019/VAZLUF_clean\", \"CoRE2019/WEMFEB_clean\"]\n",
    "cif_files_dat='\\n'.join(bundled)\n",
    "print(cif_files_dat)"
   ]
  },
  {
   "cell_type": "markdown",
   "metadata": {},
   "source": [
    "## Define screening protocol"
   ]
  },
  {
   "cell_type": "code",
   "execution_count": null,
   "metadata": {},
   "outputs": [],
   "source": [
    "experimentId = \"nanopore-adsorption-experiment\"\n",
    "definition = {\n",
    "  \"base\": {\n",
    "    \"packages\": [{\n",
    "      \"name\": \"nanopore-adsorption-experiment\",\n",
    "      \"source\": {\n",
    "        \"git\": {\n",
    "          \"location\": {\n",
    "            \"url\": \"https://github.com/st4sd/nanopore-adsorption-experiment.git\",\n",
    "            \"tag\": \"1.1.0\"\n",
    "          }\n",
    "        }\n",
    "      },\n",
    "      \"config\": {\n",
    "        \"path\": \"nanopore-adsorption-experiment.package\",\n",
    "        \"manifestPath\": \"manifest.yaml\"\n",
    "      }\n",
    "    }]\n",
    "  },\n",
    "  \"metadata\": {\n",
    "    \"package\": {\n",
    "      \"name\": \"nanopore-adsorption-experiment\",\n",
    "      \"tags\": [\"latest\", \"1.1.0\"],\n",
    "      \"maintainer\": \"rneumann@br.ibm.com\",\n",
    "      \"license\": \"Apache 2.0\",\n",
    "      \"description\": \"Uses the RASPA software package to simulate adsorption isotherms on nanoporous materials.\",\n",
    "      \"keywords\": [\n",
    "        \"climate\",\n",
    "        \"openshift\"\n",
    "      ]\n",
    "    }\n",
    "  },\n",
    "  \"parameterisation\": {\n",
    "    \"presets\": {\n",
    "      \"runtime\": {\n",
    "        \"args\": [\n",
    "          \"--registerWorkflow=yes\"\n",
    "        ]\n",
    "      },\n",
    "      \"platform\": \"openshift\"\n",
    "    },\n",
    "    \"executionOptions\": {\n",
    "        \"variables\": [\n",
    "            {\"name\": \"numberOfNanopores\"},\n",
    "            {\"name\": \"raspa_memory\"},\n",
    "            {\"name\": \"externalTemperature_K\"},\n",
    "            {\"name\": \"externalPressure_Pa\"},\n",
    "            {\"name\": \"gasComposition\"},\n",
    "            {\"name\": \"use_grid\", \"valueFrom\": [{\"value\": 0}, {\"value\": 1}]},\n",
    "            {\"name\": \"atomic_charges_method\", \"valueFrom\": [{\"value\": \"eqeq\"}, {\"value\": \"existing\"}]},\n",
    "        ],\n",
    "    }\n",
    "  }\n",
    "}\n",
    "api.api_experiment_push(definition)"
   ]
  },
  {
   "cell_type": "markdown",
   "metadata": {},
   "source": [
    "## Launch experiment"
   ]
  },
  {
   "cell_type": "code",
   "execution_count": null,
   "metadata": {},
   "outputs": [],
   "source": [
    "# Trim any empty new lines - we use the number of lines to determine the number of replicas\n",
    "cif_files_dat = cif_files_dat.rstrip()\n",
    "\n",
    "experimentConfiguration = {\n",
    "# Uncomment the \"volumes\" field below if you want to use a PVC instead of the bundled cif files.\n",
    "# The PVC should contain your `CoRE2019` directory\n",
    "#     \"volumes\": [{\n",
    "#         \"type\": {\"persistentVolumeClaim\": \"nanopore-database-pvc\"},\n",
    "#         \"applicationDependency\": \"nanopore-database\"\n",
    "#     }],\n",
    "    \"additionalOptions\": [\n",
    "        \"--useMemoization=true\",\n",
    "        \"--registerWorkflow=true\",\n",
    "        # Comment out this line if you've uncommented the \\\"volumes\\\" lines above\n",
    "        \"--applicationDependencySource=nanopore-database=%(package)s/../cif:copy\"\n",
    "    ],\n",
    "    \"orchestrator_resources\": {\n",
    "      \"cpu\": \"1.0\",\n",
    "      \"memory\": f'{int(1 + len(cif_files_dat.splitlines()) / 100)}Gi'\n",
    "    },\n",
    "   \"inputs\": [{\n",
    "       \"filename\": \"cif_files.dat\",\n",
    "       \"content\": cif_files_dat\n",
    "   }],\n",
    "   \"variables\": {\n",
    "       \"numberOfNanopores\": len(cif_files_dat.splitlines()),\n",
    "       \"raspa_memory\": \"2Gi\",\n",
    "       \"externalTemperature_K\": 298,\n",
    "       \"externalPressure_Pa\": '1000,2000,5000,10000,20000,50000,100000',\n",
    "       \"gasComposition\": '{\\\\\"CO2\\\\\":1.0}',\n",
    "       \"use_grid\": 1,\n",
    "       \"atomic_charges_method\": \"eqeq\"\n",
    "   }\n",
    "}\n",
    "\n",
    "rest_uid = api.api_experiment_start(experimentId, experimentConfiguration)"
   ]
  },
  {
   "cell_type": "code",
   "execution_count": null,
   "metadata": {},
   "outputs": [],
   "source": [
    "# It's not recommended to use include_properties=['*'] while the experiment is still running\n",
    "# status = api.api_rest_uid_status(rest_uid, include_properties=['*'])\n",
    "status = api.api_rest_uid_status(rest_uid)\n",
    "\n",
    "print(json.dumps(status, indent=2))"
   ]
  },
  {
   "cell_type": "markdown",
   "metadata": {},
   "source": [
    "## Getting the Inputs"
   ]
  },
  {
   "cell_type": "code",
   "execution_count": null,
   "metadata": {},
   "outputs": [],
   "source": [
    "print(status['experiment']['metadata']['registry']['interface'])"
   ]
  },
  {
   "cell_type": "markdown",
   "metadata": {},
   "source": [
    "## Getting the Properties"
   ]
  },
  {
   "cell_type": "code",
   "execution_count": null,
   "metadata": {},
   "outputs": [],
   "source": [
    "pd.set_option('display.max_colwidth', None)\n",
    "properties_dict = api.api_request_get(f'instances/{rest_uid}/properties')\n",
    "df = pd.DataFrame.from_dict(properties_dict)\n",
    "df"
   ]
  }
 ],
 "metadata": {
  "kernelspec": {
   "display_name": "Python 3.10.8 64-bit",
   "language": "python",
   "name": "python3"
  },
  "language_info": {
   "codemirror_mode": {
    "name": "ipython",
    "version": 3
   },
   "file_extension": ".py",
   "mimetype": "text/x-python",
   "name": "python",
   "nbconvert_exporter": "python",
   "pygments_lexer": "ipython3",
   "version": "3.10.8"
  },
  "nteract": {
   "version": "0.28.0"
  },
  "toc": {
   "nav_menu": {},
   "number_sections": true,
   "sideBar": true,
   "skip_h1_title": false,
   "toc_cell": false,
   "toc_position": {},
   "toc_section_display": "block",
   "toc_window_display": false
  },
  "toc-autonumbering": false,
  "toc-showmarkdowntxt": false,
  "vscode": {
   "interpreter": {
    "hash": "b0fa6594d8f4cbf19f97940f81e996739fb7646882a419484c72d19e05852a7e"
   }
  }
 },
 "nbformat": 4,
 "nbformat_minor": 4
}
